{
 "cells": [
  {
   "cell_type": "code",
   "execution_count": 1,
   "id": "3df151ea-c4de-4691-bf5c-2b2dce7f285d",
   "metadata": {},
   "outputs": [],
   "source": [
    "import torch\n",
    "import torch.nn as nn\n",
    "import torch.optim as optim\n",
    "from torch.utils.data import Dataset, DataLoader\n",
    "from sklearn.model_selection import train_test_split\n",
    "from sklearn.preprocessing import StandardScaler\n",
    "import numpy as np\n",
    "import pandas as pd\n",
    "data = pd.read_csv(\"housing.csv\")\n",
    "#rozdelenie predikovanej hodnoty a zvyšku\n",
    "target= data['median_house_value']\n",
    "data=data.drop(columns=['median_house_value'])\n",
    "#upravenie column ocean_proximity aby sa dala dať do torchu\n",
    "data['ocean_proximity'] = data['ocean_proximity'].astype('category')\n",
    "data['ocean_proximity'] = data['ocean_proximity'].cat.codes\n",
    "\n",
    "data.describe()\n",
    "data['total_bedrooms']=data['total_bedrooms'].fillna(data['total_bedrooms'].mean())\n",
    "\n",
    "scaler = StandardScaler()\n",
    "data_scaled = scaler.fit_transform(data)\n",
    "\n",
    "x_train,x_test,y_train,y_test = train_test_split(data_scaled,target,test_size=0.2 , random_state=42)\n",
    "y_train=y_train.values\n",
    "y_test=y_test.values"
   ]
  },
  {
   "cell_type": "code",
   "execution_count": 2,
   "id": "8bfd8f87-20a7-47c2-a058-92906bd637aa",
   "metadata": {},
   "outputs": [],
   "source": [
    "class HousingDataset(Dataset):\n",
    "    def __init__(self, features, targets):\n",
    "        self.features = torch.tensor(features, dtype=torch.float32)\n",
    "        self.targets = torch.tensor(targets, dtype=torch.float32)\n",
    "\n",
    "    def __len__(self):\n",
    "        return len(self.features)\n",
    "\n",
    "    def __getitem__(self, idx):\n",
    "        return self.features[idx], self.targets[idx]\n",
    "\n",
    "target_scaler = StandardScaler()\n",
    "y_train_scaled = target_scaler.fit_transform(y_train.reshape(-1, 1)).flatten()\n",
    "y_test_scaled = target_scaler.transform(y_test.reshape(-1, 1)).flatten()\n",
    "train_dataset = HousingDataset(x_train, y_train_scaled)\n",
    "test_dataset = HousingDataset(x_test, y_test_scaled)\n",
    "\n",
    "\n",
    "batch_size = 64\n",
    "train_loader = DataLoader(train_dataset, batch_size=batch_size, shuffle=True)\n",
    "test_loader = DataLoader(test_dataset, batch_size=batch_size, shuffle=False)\n"
   ]
  },
  {
   "cell_type": "code",
   "execution_count": 3,
   "id": "c56bcde8-67b6-46d5-9b68-57616fd638d3",
   "metadata": {},
   "outputs": [],
   "source": [
    "class HousingModel(nn.Module):\n",
    "    def __init__(self):\n",
    "        super(HousingModel, self).__init__()\n",
    "        self.fc1 = nn.Linear(in_features=x_train.shape[1], out_features=64)\n",
    "        self.fc2 = nn.Linear(64, 128)\n",
    "        self.fc3 = nn.Linear(128, 64)\n",
    "        self.fc4 = nn.Linear(64, 32)\n",
    "        self.fc5 = nn.Linear(32, 1)\n",
    "    \n",
    "    def forward(self, x):\n",
    "        x = torch.relu(self.fc1(x))  \n",
    "        x = torch.relu(self.fc2(x)) \n",
    "        x = torch.relu(self.fc3(x))\n",
    "        x = torch.relu(self.fc4(x))\n",
    "        x = self.fc5(x)\n",
    "        return x\n",
    "criterion = nn.MSELoss()\n"
   ]
  },
  {
   "cell_type": "code",
   "execution_count": 4,
   "id": "8a853b38-33e5-4cdd-a542-2e9a7e6279e5",
   "metadata": {},
   "outputs": [],
   "source": [
    "def model_evaluation_meow(model):\n",
    "    model.eval()\n",
    "    with torch.no_grad():\n",
    "        y_pred = []\n",
    "        y_true = []\n",
    "        for inputs, targets in test_loader:\n",
    "            outputs = model(inputs)\n",
    "            y_pred.append(outputs.squeeze().numpy())\n",
    "            y_true.append(targets.numpy())\n",
    "        \n",
    "        y_pred = np.concatenate(y_pred)\n",
    "        y_true = np.concatenate(y_true)\n",
    "        \n",
    "        mse = np.mean((y_pred - y_true) ** 2)\n",
    "        print(f'Test MSE: {mse}')\n"
   ]
  },
  {
   "cell_type": "code",
   "execution_count": 5,
   "id": "bf5df879-2c53-4d70-a002-f10d747bb6d8",
   "metadata": {},
   "outputs": [
    {
     "name": "stdout",
     "output_type": "stream",
     "text": [
      "Epoch_num :10/100, Loss: 0.8065137473880782\n",
      "Epoch_num :20/100, Loss: 0.37266085019638373\n",
      "Epoch_num :30/100, Loss: 0.32614173740148544\n",
      "Epoch_num :40/100, Loss: 0.29927363754935965\n",
      "Epoch_num :50/100, Loss: 0.2830863674712736\n",
      "Epoch_num :60/100, Loss: 0.2731635458767414\n",
      "Epoch_num :70/100, Loss: 0.2665812352368998\n",
      "Epoch_num :80/100, Loss: 0.2619016674426637\n",
      "Epoch_num :90/100, Loss: 0.2581368845620359\n",
      "Epoch_num :100/100, Loss: 0.2549080310692621\n"
     ]
    },
    {
     "data": {
      "image/png": "[encoded data removed]",
      "text/plain": [
       "<Figure size 640x480 with 1 Axes>"
      ]
     },
     "metadata": {},
     "output_type": "display_data"
    },
    {
     "name": "stdout",
     "output_type": "stream",
     "text": [
      "Test MSE: 0.28053566813468933\n"
     ]
    }
   ],
   "source": [
    "import matplotlib.pyplot as plt\n",
    "def run_model(optimizer,model):\n",
    "    num_epochs = 100\n",
    "    epoch_array=[]\n",
    "    for epoch in range(num_epochs):\n",
    "        model.train() \n",
    "        running_loss = 0.0\n",
    "        \n",
    "        for inputs, targets in train_loader:\n",
    "            optimizer.zero_grad()\n",
    "            \n",
    "            outputs = model(inputs)\n",
    "            loss = criterion(outputs.squeeze(), targets)  \n",
    "            \n",
    "            loss.backward()\n",
    "            optimizer.step()\n",
    "            \n",
    "            running_loss += loss.item()\n",
    "        if (epoch+1)%10==0:\n",
    "            print(f'Epoch_num :{epoch+1}/{num_epochs}, Loss: {running_loss/len(train_loader)}')\n",
    "        epoch_array.append(running_loss/len(train_loader))\n",
    "    \n",
    "    plt.plot(epoch_array)\n",
    "    plt.show()\n",
    "    model_evaluation_meow(model)\n",
    "    return epoch_array[-1]\n",
    "sgd_model = HousingModel()\n",
    "sgd_optimizer = optim.SGD(sgd_model.parameters(), lr=0.001)    \n",
    "sgd_result=run_model(sgd_optimizer,sgd_model)\n"
   ]
  },
  {
   "cell_type": "code",
   "execution_count": 6,
   "id": "6a10095d-1236-481f-a642-8e5e8776935d",
   "metadata": {},
   "outputs": [
    {
     "name": "stdout",
     "output_type": "stream",
     "text": [
      "Epoch_num :10/100, Loss: 0.26168755424577134\n",
      "Epoch_num :20/100, Loss: 0.23683070261464562\n",
      "Epoch_num :30/100, Loss: 0.22143807019605194\n",
      "Epoch_num :40/100, Loss: 0.21121683254722476\n",
      "Epoch_num :50/100, Loss: 0.2017654060682123\n",
      "Epoch_num :60/100, Loss: 0.19434485769318055\n",
      "Epoch_num :70/100, Loss: 0.1895647287339896\n",
      "Epoch_num :80/100, Loss: 0.18860280811209088\n",
      "Epoch_num :90/100, Loss: 0.1831098814574323\n",
      "Epoch_num :100/100, Loss: 0.18038731868299404\n"
     ]
    },
    {
     "data": {
      "image/png": "[encoded data removed]",
      "text/plain": [
       "<Figure size 640x480 with 1 Axes>"
      ]
     },
     "metadata": {},
     "output_type": "display_data"
    },
    {
     "name": "stdout",
     "output_type": "stream",
     "text": [
      "Test MSE: 0.2141052931547165\n"
     ]
    }
   ],
   "source": [
    "sgd_momentum_model = HousingModel()\n",
    "sgd_momentum_optimizer = optim.SGD(sgd_momentum_model.parameters(), lr=0.001, momentum=0.9)\n",
    "sgd_momentum_result=run_model(sgd_momentum_optimizer,sgd_momentum_model)"
   ]
  },
  {
   "cell_type": "code",
   "execution_count": 80,
   "id": "8a7c9402-02c5-45a2-b017-83dc47c902d8",
   "metadata": {},
   "outputs": [
    {
     "name": "stdout",
     "output_type": "stream",
     "text": [
      "Epoch_num :10/100, Loss: 0.21285721786724504\n",
      "Epoch_num :20/100, Loss: 0.19397185246149698\n",
      "Epoch_num :30/100, Loss: 0.18195922314658647\n",
      "Epoch_num :40/100, Loss: 0.17103164921724057\n",
      "Epoch_num :50/100, Loss: 0.15771012961171393\n",
      "Epoch_num :60/100, Loss: 0.14846471050219942\n",
      "Epoch_num :70/100, Loss: 0.13729658431207487\n",
      "Epoch_num :80/100, Loss: 0.12886945543767409\n",
      "Epoch_num :90/100, Loss: 0.11946218010298042\n",
      "Epoch_num :100/100, Loss: 0.11231894047512103\n"
     ]
    },
    {
     "data": {
      "image/png": "[encoded data removed]",
      "text/plain": [
       "<Figure size 640x480 with 1 Axes>"
      ]
     },
     "metadata": {},
     "output_type": "display_data"
    },
    {
     "name": "stdout",
     "output_type": "stream",
     "text": [
      "Test MSE: 0.21419501304626465\n"
     ]
    }
   ],
   "source": [
    "adam_model = HousingModel()\n",
    "adam_optimizer = optim.Adam(adam_model.parameters(), lr=0.001)\n",
    "adam_result=run_model(adam_optimizer,adam_model)"
   ]
  },
  {
   "cell_type": "code",
   "execution_count": 8,
   "id": "a8527d99-6855-4c68-b1ab-d00a960ec8d1",
   "metadata": {},
   "outputs": [
    {
     "name": "stdout",
     "output_type": "stream",
     "text": [
      "0.11823322545996932\n"
     ]
    }
   ],
   "source": [
    "print(min(adam_result,sgd_momentum_result,sgd_result))"
   ]
  },
  {
   "cell_type": "code",
   "execution_count": 9,
   "id": "409675a2-d21b-4f11-acc6-6e6bb6fcc1c4",
   "metadata": {},
   "outputs": [
    {
     "name": "stdout",
     "output_type": "stream",
     "text": [
      "<class 'pandas.core.frame.DataFrame'>\n",
      "RangeIndex: 20640 entries, 0 to 20639\n",
      "Data columns (total 9 columns):\n",
      " #   Column              Non-Null Count  Dtype  \n",
      "---  ------              --------------  -----  \n",
      " 0   longitude           20640 non-null  float64\n",
      " 1   latitude            20640 non-null  float64\n",
      " 2   housing_median_age  20640 non-null  float64\n",
      " 3   total_rooms         20640 non-null  float64\n",
      " 4   total_bedrooms      20640 non-null  float64\n",
      " 5   population          20640 non-null  float64\n",
      " 6   households          20640 non-null  float64\n",
      " 7   median_income       20640 non-null  float64\n",
      " 8   ocean_proximity     20640 non-null  int8   \n",
      "dtypes: float64(8), int8(1)\n",
      "memory usage: 1.3 MB\n"
     ]
    }
   ],
   "source": [
    "data.info()"
   ]
  },
  {
   "cell_type": "code",
   "execution_count": 123,
   "id": "189e71ae-8349-47d3-8e11-22c1835e72e5",
   "metadata": {},
   "outputs": [],
   "source": [
    "class LinearLayer:\n",
    "    def __init__(self, input_dim, output_dim):\n",
    "        limit = np.sqrt(6 / (input_dim + output_dim))\n",
    "        self.weights = np.random.uniform(-limit, limit, (input_dim, output_dim))\n",
    "        self.bias = np.zeros((1, output_dim))\n",
    "        self.input = None\n",
    "        self.grad_weights = None\n",
    "        self.grad_bias = None\n",
    "        self.velocity_weights = np.zeros_like(self.weights)\n",
    "        self.velocity_bias = np.zeros_like(self.bias)\n",
    "\n",
    "    def forward(self, x):\n",
    "        self.input = x\n",
    "        return np.dot(x, self.weights) + self.bias\n",
    "\n",
    "    def backward(self, grad_output):\n",
    "        self.grad_weights = np.dot(self.input.T, grad_output)\n",
    "        self.grad_bias = np.sum(grad_output, axis=0, keepdims=True)\n",
    "        return np.dot(grad_output, self.weights.T)\n",
    "\n",
    "    def update(self, lr, momentum=None):\n",
    "        if self.grad_weights is None or self.grad_bias is None:\n",
    "            raise ValueError(\"Gradients have not been computed yet. Call backward() before update().\")\n",
    "        \n",
    "        if momentum is None:\n",
    "            self.weights -= lr * self.grad_weights\n",
    "            self.bias -= lr * self.grad_bias\n",
    "        else:\n",
    "            self.velocity_weights = momentum * self.velocity_weights - lr * self.grad_weights\n",
    "            self.weights += self.velocity_weights\n",
    "\n",
    "            self.velocity_bias = momentum * self.velocity_bias - lr * self.grad_bias\n",
    "            self.bias += self.velocity_bias\n",
    "        \n",
    "class NeuralNetwork:\n",
    "    def __init__(self):\n",
    "        self.layer1 = LinearLayer(2, 4) \n",
    "        self.layer2 = LinearLayer(4, 1)\n",
    "\n",
    "    def forward(self, x):\n",
    "        self.layer1_output = self.layer1.forward(x)\n",
    "        self.layer1_output_activated = np.tanh(self.layer1_output)\n",
    "        self.layer2_output = self.layer2.forward(self.layer1_output_activated)\n",
    "        return self.layer2_output\n",
    "\n",
    "    def backward(self, grad_output):\n",
    "        # Backward pass: compute gradients\n",
    "        grad_layer2 = grad_output * (1 - np.tanh(self.layer2_output) ** 2) \n",
    "        grad_layer1 = self.layer2.backward(grad_layer2)\n",
    "        grad_layer1_activated = grad_layer1 * (1 - np.tanh(self.layer1_output) ** 2) \n",
    "        self.layer1.backward(grad_layer1_activated)\n",
    "\n",
    "    def update(self, lr, momentum=0.9):\n",
    "        self.layer1.update(lr, momentum)\n",
    "        self.layer2.update(lr, momentum)\n",
    "\n",
    "class ReLU:\n",
    "    def forward(self, x):\n",
    "        self.input = x\n",
    "        return np.maximum(0, x)\n",
    "\n",
    "    def backward(self, grad_output):\n",
    "        return grad_output * (self.input > 0)\n",
    "\n",
    "class Sigmoid:\n",
    "    def forward(self, x):\n",
    "        self.output = 1 / (1 + np.exp(-x))\n",
    "        return self.output\n",
    "\n",
    "    def backward(self, grad_output):\n",
    "        return grad_output * (self.output * (1 - self.output))\n",
    "\n",
    "class Tanh:\n",
    "    def forward(self, x):\n",
    "        self.output = np.tanh(x)\n",
    "        return self.output\n",
    "\n",
    "    def backward(self, grad_output):\n",
    "        return grad_output * (1 - self.output**2)\n",
    "class MSELoss:\n",
    "    def forward(self, y_pred, y_true):\n",
    "        self.y_pred = y_pred\n",
    "        self.y_true = y_true\n",
    "        return np.mean((y_pred - y_true) ** 2)\n",
    "\n",
    "    def backward(self):\n",
    "        return 2 * (self.y_pred - self.y_true) / self.y_true.size\n",
    "class SequentialModel:\n",
    "    def __init__(self, layers):\n",
    "        self.layers = layers\n",
    "\n",
    "    def forward(self, x):\n",
    "        for layer in self.layers:\n",
    "            x = layer.forward(x)\n",
    "        return x\n",
    "\n",
    "    def backward(self, grad_output):\n",
    "        for layer in reversed(self.layers):\n",
    "            grad_output = layer.backward(grad_output)\n",
    "\n",
    "    def update(self, lr, momentum=None):\n",
    "        for layer in self.layers:\n",
    "            if hasattr(layer, 'update'):\n",
    "                layer.update(lr, momentum)\n",
    "\n",
    "\n",
    "\n",
    "class LinearLayerWithMomentum(LinearLayer):\n",
    "    def __init__(self, input_dim, output_dim):\n",
    "        super().__init__(input_dim, output_dim)\n",
    "    def update(self, lr, momentum=0.9):\n",
    "        if self.grad_weights is None or self.grad_bias is None:\n",
    "            raise ValueError(\"Gradients have not been computed yet. Call backward() before update().\")\n",
    "        \n",
    "        self.velocity_weights = momentum * self.velocity_weights - lr * self.grad_weights\n",
    "        self.weights += self.velocity_weights\n",
    "        self.velocity_bias = momentum * self.velocity_bias - lr * self.grad_bias\n",
    "        self.bias += self.velocity_bias\n"
   ]
  },
  {
   "cell_type": "code",
   "execution_count": 139,
   "id": "ba1e2446-794f-48b0-b9cc-1f37f93ccd5e",
   "metadata": {},
   "outputs": [
    {
     "name": "stdout",
     "output_type": "stream",
     "text": [
      "Epoch 50, Loss: 0.10474297010858055\n",
      "Epoch 100, Loss: 0.001848332818968905\n",
      "Epoch 150, Loss: 0.0009072775208171627\n",
      "Epoch 200, Loss: 0.0006230719097634961\n",
      "Epoch 250, Loss: 0.000472534536582572\n",
      "Epoch 300, Loss: 0.00037929023234730666\n",
      "Epoch 350, Loss: 0.00031599054821580206\n",
      "Epoch 400, Loss: 0.00027028814278023\n",
      "Epoch 450, Loss: 0.00023579069345227243\n",
      "Epoch 500, Loss: 0.00020885939127033448\n"
     ]
    },
    {
     "data": {
      "image/png": "[encoded data removed]",
      "text/plain": [
       "<Figure size 640x480 with 1 Axes>"
      ]
     },
     "metadata": {},
     "output_type": "display_data"
    },
    {
     "name": "stdout",
     "output_type": "stream",
     "text": [
      "Test Loss: 0.00020838106752373248\n"
     ]
    }
   ],
   "source": [
    "\n",
    "X = np.array([[0, 0], [0, 1], [1, 0], [1, 1]])\n",
    "y = np.array([[0], [1], [1], [0]])\n",
    "\n",
    "model = SequentialModel([\n",
    "    LinearLayer(X.shape[1], 4), \n",
    "    Tanh(),              \n",
    "    LinearLayer(4, 1),           \n",
    "    Tanh()                      \n",
    "])\n",
    "loss_fn = MSELoss()\n",
    "\n",
    "lr = 0.1  \n",
    "num_epochs = 500\n",
    "plot_data = []\n",
    "\n",
    "for epoch in range(num_epochs):\n",
    "    y_pred = model.forward(X)  \n",
    "    loss = loss_fn.forward(y_pred, y)\n",
    "    \n",
    "    grad_loss = loss_fn.backward()\n",
    "    model.backward(grad_loss)\n",
    "    momentum = 0.9  \n",
    "    model.update(lr, momentum)\n",
    "    \n",
    "    if (epoch + 1) % 50 == 0:\n",
    "        print(f'Epoch {epoch + 1}, Loss: {loss}')\n",
    "    plot_data.append(loss)\n",
    "\n",
    "plt.plot(plot_data)\n",
    "plt.xlabel('Epochs')\n",
    "plt.ylabel('Loss')\n",
    "plt.title('Training Loss')\n",
    "plt.show()\n",
    "\n",
    "y_pred = model.forward(X) \n",
    "test_loss = loss_fn.forward(y_pred, y)\n",
    "print(f'Test Loss: {test_loss}')\n"
   ]
  }
 ],
 "metadata": {
  "kernelspec": {
   "display_name": "Python 3 (ipykernel)",
   "language": "python",
   "name": "python3"
  },
  "language_info": {
   "codemirror_mode": {
    "name": "ipython",
    "version": 3
   },
   "file_extension": ".py",
   "mimetype": "text/x-python",
   "name": "python",
   "nbconvert_exporter": "python",
   "pygments_lexer": "ipython3",
   "version": "3.12.7"
  }
 },
 "nbformat": 4,
 "nbformat_minor": 5
}
